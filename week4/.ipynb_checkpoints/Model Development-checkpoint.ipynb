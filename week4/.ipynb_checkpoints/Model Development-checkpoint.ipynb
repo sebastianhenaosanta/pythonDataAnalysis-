{
 "cells": [
  {
   "cell_type": "markdown",
   "metadata": {},
   "source": [
    "# Model Development\n",
    "\n",
    "## What is a Model?\n",
    "\n",
    "* A model can be thought as a mathematical equation used to predict a value given one or more other values.\n",
    "* Relating one or more inde pendent variables to dependent variables.\n",
    "\n",
    "### Example\n",
    "\n",
    "![model_definition](./model.svg)\n",
    "\n",
    "* Usually the more relevant data you have the more accuarate your model is.\n",
    "\n",
    "![model_accuarate](./model_accuarate.svg)\n",
    "\n",
    "* To understand why more data is important consider the following sitation.\n",
    "* Pink cars sell for singinficantly less.\n",
    "\n",
    "![model_diff](./model_diff.svg)\n",
    "\n",
    "# Linear Regression \n",
    "\n",
    "* Linear regression will refer to one independent variable to make a prediction.\n",
    "* Multiple linear regression will refer to multiple independent-variables to make a prediction.\n",
    "\n",
    "![linear regresion](./liearRegression.svg)\n",
    "\n",
    "# Simple Linear Regression\n",
    "\n",
    "1. The predictor (independet) variable $X$\n",
    "2. The target (dependent) variable $y$\n",
    "### $$y={ b }_{ 0 }+{ b }_{ 1 }x$$\n",
    "* ${ b }_{ 0 }$:The Intercept\n",
    "* ${ b }_{ 1 }$:The Slope\n"
   ]
  },
  {
   "cell_type": "code",
   "execution_count": null,
   "metadata": {},
   "outputs": [],
   "source": []
  }
 ],
 "metadata": {
  "kernelspec": {
   "display_name": "Python 3",
   "language": "python",
   "name": "python3"
  },
  "language_info": {
   "codemirror_mode": {
    "name": "ipython",
    "version": 3
   },
   "file_extension": ".py",
   "mimetype": "text/x-python",
   "name": "python",
   "nbconvert_exporter": "python",
   "pygments_lexer": "ipython3",
   "version": "3.6.9"
  }
 },
 "nbformat": 4,
 "nbformat_minor": 4
}
